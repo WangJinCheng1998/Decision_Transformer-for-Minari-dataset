{
 "cells": [
  {
   "cell_type": "code",
   "execution_count": 1,
   "metadata": {},
   "outputs": [
    {
     "name": "stderr",
     "output_type": "stream",
     "text": [
      "/home/wjc/.conda/envs/decision_transformer/lib/python3.8/site-packages/tqdm/auto.py:21: TqdmWarning: IProgress not found. Please update jupyter and ipywidgets. See https://ipywidgets.readthedocs.io/en/stable/user_install.html\n",
      "  from .autonotebook import tqdm as notebook_tqdm\n"
     ]
    },
    {
     "name": "stdout",
     "output_type": "stream",
     "text": [
      "dict_keys(['antmaze-large-diverse-v0', 'antmaze-large-play-v0', 'antmaze-medium-diverse-v0', 'antmaze-medium-play-v0', 'antmaze-umaze-diverse-v0', 'antmaze-umaze-v0', 'door-cloned-v0', 'door-cloned-v1', 'door-expert-v0', 'door-expert-v1', 'door-human-v0', 'door-human-v1', 'hammer-cloned-v0', 'hammer-cloned-v1', 'hammer-expert-v0', 'hammer-expert-v1', 'hammer-human-v0', 'hammer-human-v1', 'kitchen-complete-v0', 'kitchen-complete-v1', 'kitchen-mixed-v0', 'kitchen-mixed-v1', 'kitchen-partial-v0', 'kitchen-partial-v1', 'pen-cloned-v0', 'pen-cloned-v1', 'pen-expert-v0', 'pen-expert-v1', 'pen-human-v0', 'pen-human-v1', 'pointmaze-large-dense-v0', 'pointmaze-large-dense-v1', 'pointmaze-large-v0', 'pointmaze-large-v1', 'pointmaze-medium-dense-v0', 'pointmaze-medium-dense-v1', 'pointmaze-medium-v0', 'pointmaze-medium-v1', 'pointmaze-open-dense-v0', 'pointmaze-open-dense-v1', 'pointmaze-open-v0', 'pointmaze-open-v1', 'pointmaze-umaze-dense-v0', 'pointmaze-umaze-dense-v1', 'pointmaze-umaze-v0', 'pointmaze-umaze-v1', 'relocate-cloned-v0', 'relocate-cloned-v1', 'relocate-expert-v0', 'relocate-expert-v1', 'relocate-human-v0', 'relocate-human-v1'])\n"
     ]
    }
   ],
   "source": [
    "import minari\n",
    "remote_datasets = minari.list_remote_datasets()\n",
    "\n",
    "\n",
    "# To show you all avaliable dataset\n",
    "print(remote_datasets.keys())"
   ]
  },
  {
   "cell_type": "code",
   "execution_count": 2,
   "metadata": {},
   "outputs": [
    {
     "name": "stdout",
     "output_type": "stream",
     "text": [
      "\n",
      "Downloading pointmaze-medium-v1 from Farama servers...\n",
      "\n",
      " * Downloading data file 'pointmaze-medium-v1/_docs/_imgs/pointmaze-medium-v1.gif' ...\n",
      "\n"
     ]
    },
    {
     "name": "stderr",
     "output_type": "stream",
     "text": [
      "100%|██████████| 4.12M/4.12M [00:01<00:00, 4.06MB/s]\n"
     ]
    },
    {
     "name": "stdout",
     "output_type": "stream",
     "text": [
      "\n",
      " * Downloading data file 'pointmaze-medium-v1/data/additional_data_0.hdf5' ...\n",
      "\n"
     ]
    },
    {
     "name": "stderr",
     "output_type": "stream",
     "text": [
      "100%|██████████| 55.2M/55.2M [00:04<00:00, 13.1MB/s]\n"
     ]
    },
    {
     "name": "stdout",
     "output_type": "stream",
     "text": [
      "\n",
      " * Downloading data file 'pointmaze-medium-v1/data/additional_data_1.hdf5' ...\n",
      "\n"
     ]
    },
    {
     "name": "stderr",
     "output_type": "stream",
     "text": [
      "100%|██████████| 56.2M/56.2M [00:04<00:00, 13.5MB/s]\n"
     ]
    },
    {
     "name": "stdout",
     "output_type": "stream",
     "text": [
      "\n",
      " * Downloading data file 'pointmaze-medium-v1/data/additional_data_2.hdf5' ...\n",
      "\n"
     ]
    },
    {
     "name": "stderr",
     "output_type": "stream",
     "text": [
      "100%|██████████| 55.1M/55.1M [00:04<00:00, 13.6MB/s]\n"
     ]
    },
    {
     "name": "stdout",
     "output_type": "stream",
     "text": [
      "\n",
      " * Downloading data file 'pointmaze-medium-v1/data/additional_data_3.hdf5' ...\n",
      "\n"
     ]
    },
    {
     "name": "stderr",
     "output_type": "stream",
     "text": [
      "100%|██████████| 55.5M/55.5M [00:04<00:00, 13.0MB/s]\n"
     ]
    },
    {
     "name": "stdout",
     "output_type": "stream",
     "text": [
      "\n",
      " * Downloading data file 'pointmaze-medium-v1/data/main_data.hdf5' ...\n",
      "\n"
     ]
    },
    {
     "name": "stderr",
     "output_type": "stream",
     "text": [
      "100%|██████████| 56.1M/56.1M [00:04<00:00, 13.1MB/s]"
     ]
    },
    {
     "name": "stdout",
     "output_type": "stream",
     "text": [
      "\n",
      "Dataset pointmaze-medium-v1 downloaded to /home/wjc/.minari/datasets/pointmaze-medium-v1\n"
     ]
    },
    {
     "name": "stderr",
     "output_type": "stream",
     "text": [
      "\n"
     ]
    }
   ],
   "source": [
    "# Download dataset \n",
    "minari.download_dataset(dataset_id=\"pointmaze-medium-v1\")\n",
    "\n",
    "# The result will also show you where the dataset is stored."
   ]
  },
  {
   "cell_type": "code",
   "execution_count": 4,
   "metadata": {},
   "outputs": [
    {
     "name": "stdout",
     "output_type": "stream",
     "text": [
      "EpisodeData(id=0, seed=123, total_timesteps=325, observations={achieved_goal: ndarray of shape (326, 2) and dtype float64, desired_goal: ndarray of shape (326, 2) and dtype float64, observation: ndarray of shape (326, 4) and dtype float64}, actions=ndarray of shape (325, 2) and dtype float32, rewards=ndarray of 325 floats, terminations=ndarray of 325 bools, truncations=ndarray of 325 bools)\n"
     ]
    }
   ],
   "source": [
    "#Loading the dataset and check the first data trajectory\n",
    "dataset = minari.load_dataset(\"pointmaze-medium-v1\")\n",
    "print(dataset[0])"
   ]
  },
  {
   "cell_type": "code",
   "execution_count": 10,
   "metadata": {},
   "outputs": [
    {
     "name": "stdout",
     "output_type": "stream",
     "text": [
      "(325, 2)\n",
      "(325,)\n",
      "(326, 4)\n",
      "4778\n"
     ]
    }
   ],
   "source": [
    "# print the shape of example 1 actions ,rewards and observations\n",
    "\n",
    "print(dataset[0].actions.shape)\n",
    "print(dataset[0].rewards.shape)\n",
    "print(dataset[0].observations['observation'].shape)\n",
    "# check the number of samples in this dataset\n",
    "print(len(dataset))"
   ]
  },
  {
   "cell_type": "code",
   "execution_count": 12,
   "metadata": {},
   "outputs": [
    {
     "name": "stdout",
     "output_type": "stream",
     "text": [
      "state_mean [-0.44168062 -0.68286553  0.00249927  0.00275811]\n",
      "state_std [1.55383843 1.41328933 2.46077032 2.69974213]\n"
     ]
    }
   ],
   "source": [
    "# Calculating the state_mean and state_std for the dataset. If you need run a different envioronment, please add these to infos.py \n",
    "\n",
    "import numpy as np\n",
    "states = []\n",
    "\n",
    "data_list = []\n",
    "\n",
    "for trajc in dataset :\n",
    "            traj_len = trajc.observations['observation'].shape[0]\n",
    "            states.append(trajc.observations['observation'])\n",
    "states = np.concatenate(states, axis=0)\n",
    "state_mean, state_std = np.mean(states, axis=0), np.std(states, axis=0) + 1e-6\n",
    "print('state_mean',state_mean)\n",
    "print('state_std',state_std)"
   ]
  }
 ],
 "metadata": {
  "kernelspec": {
   "display_name": "decision_transformer",
   "language": "python",
   "name": "python3"
  },
  "language_info": {
   "codemirror_mode": {
    "name": "ipython",
    "version": 3
   },
   "file_extension": ".py",
   "mimetype": "text/x-python",
   "name": "python",
   "nbconvert_exporter": "python",
   "pygments_lexer": "ipython3",
   "version": "3.8.17"
  },
  "orig_nbformat": 4
 },
 "nbformat": 4,
 "nbformat_minor": 2
}
